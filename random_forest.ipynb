{
 "cells": [
  {
   "cell_type": "code",
   "execution_count": 1,
   "metadata": {},
   "outputs": [],
   "source": [
    "import pandas as pd\n",
    "import numpy as np\n",
    "import matplotlib.pyplot as plt\n",
    "import seaborn as sns\n",
    "%matplotlib inline"
   ]
  },
  {
   "cell_type": "code",
   "execution_count": 2,
   "metadata": {},
   "outputs": [
    {
     "data": {
      "text/html": [
       "<div>\n",
       "<style scoped>\n",
       "    .dataframe tbody tr th:only-of-type {\n",
       "        vertical-align: middle;\n",
       "    }\n",
       "\n",
       "    .dataframe tbody tr th {\n",
       "        vertical-align: top;\n",
       "    }\n",
       "\n",
       "    .dataframe thead th {\n",
       "        text-align: right;\n",
       "    }\n",
       "</style>\n",
       "<table border=\"1\" class=\"dataframe\">\n",
       "  <thead>\n",
       "    <tr style=\"text-align: right;\">\n",
       "      <th></th>\n",
       "      <th>squareMeters</th>\n",
       "      <th>floor</th>\n",
       "      <th>floorCount</th>\n",
       "      <th>latitude</th>\n",
       "      <th>longitude</th>\n",
       "      <th>centreDistance</th>\n",
       "      <th>hasParkingSpace</th>\n",
       "      <th>hasBalcony</th>\n",
       "      <th>hasElevator</th>\n",
       "      <th>hasSecurity</th>\n",
       "      <th>hasStorageRoom</th>\n",
       "      <th>type_numerical</th>\n",
       "      <th>month</th>\n",
       "      <th>price</th>\n",
       "    </tr>\n",
       "  </thead>\n",
       "  <tbody>\n",
       "    <tr>\n",
       "      <th>0</th>\n",
       "      <td>47.0</td>\n",
       "      <td>8.0</td>\n",
       "      <td>9.0</td>\n",
       "      <td>52.257912</td>\n",
       "      <td>20.968610</td>\n",
       "      <td>3.76</td>\n",
       "      <td>1</td>\n",
       "      <td>1</td>\n",
       "      <td>1</td>\n",
       "      <td>0</td>\n",
       "      <td>0</td>\n",
       "      <td>0</td>\n",
       "      <td>11</td>\n",
       "      <td>5000</td>\n",
       "    </tr>\n",
       "    <tr>\n",
       "      <th>1</th>\n",
       "      <td>27.0</td>\n",
       "      <td>3.0</td>\n",
       "      <td>7.0</td>\n",
       "      <td>52.249800</td>\n",
       "      <td>21.035200</td>\n",
       "      <td>2.95</td>\n",
       "      <td>1</td>\n",
       "      <td>1</td>\n",
       "      <td>1</td>\n",
       "      <td>0</td>\n",
       "      <td>0</td>\n",
       "      <td>-1</td>\n",
       "      <td>11</td>\n",
       "      <td>2950</td>\n",
       "    </tr>\n",
       "    <tr>\n",
       "      <th>2</th>\n",
       "      <td>51.0</td>\n",
       "      <td>5.0</td>\n",
       "      <td>7.0</td>\n",
       "      <td>52.222864</td>\n",
       "      <td>21.009959</td>\n",
       "      <td>1.08</td>\n",
       "      <td>0</td>\n",
       "      <td>1</td>\n",
       "      <td>1</td>\n",
       "      <td>0</td>\n",
       "      <td>0</td>\n",
       "      <td>0</td>\n",
       "      <td>11</td>\n",
       "      <td>3700</td>\n",
       "    </tr>\n",
       "    <tr>\n",
       "      <th>3</th>\n",
       "      <td>50.0</td>\n",
       "      <td>3.0</td>\n",
       "      <td>5.0</td>\n",
       "      <td>52.224948</td>\n",
       "      <td>21.012136</td>\n",
       "      <td>0.95</td>\n",
       "      <td>0</td>\n",
       "      <td>0</td>\n",
       "      <td>1</td>\n",
       "      <td>0</td>\n",
       "      <td>0</td>\n",
       "      <td>1</td>\n",
       "      <td>11</td>\n",
       "      <td>5000</td>\n",
       "    </tr>\n",
       "    <tr>\n",
       "      <th>4</th>\n",
       "      <td>39.8</td>\n",
       "      <td>2.0</td>\n",
       "      <td>3.0</td>\n",
       "      <td>52.216513</td>\n",
       "      <td>21.041474</td>\n",
       "      <td>3.09</td>\n",
       "      <td>0</td>\n",
       "      <td>0</td>\n",
       "      <td>0</td>\n",
       "      <td>0</td>\n",
       "      <td>0</td>\n",
       "      <td>1</td>\n",
       "      <td>11</td>\n",
       "      <td>4500</td>\n",
       "    </tr>\n",
       "  </tbody>\n",
       "</table>\n",
       "</div>"
      ],
      "text/plain": [
       "   squareMeters  floor  floorCount   latitude  longitude  centreDistance  \\\n",
       "0          47.0    8.0         9.0  52.257912  20.968610            3.76   \n",
       "1          27.0    3.0         7.0  52.249800  21.035200            2.95   \n",
       "2          51.0    5.0         7.0  52.222864  21.009959            1.08   \n",
       "3          50.0    3.0         5.0  52.224948  21.012136            0.95   \n",
       "4          39.8    2.0         3.0  52.216513  21.041474            3.09   \n",
       "\n",
       "   hasParkingSpace  hasBalcony  hasElevator  hasSecurity  hasStorageRoom  \\\n",
       "0                1           1            1            0               0   \n",
       "1                1           1            1            0               0   \n",
       "2                0           1            1            0               0   \n",
       "3                0           0            1            0               0   \n",
       "4                0           0            0            0               0   \n",
       "\n",
       "   type_numerical  month  price  \n",
       "0               0     11   5000  \n",
       "1              -1     11   2950  \n",
       "2               0     11   3700  \n",
       "3               1     11   5000  \n",
       "4               1     11   4500  "
      ]
     },
     "execution_count": 2,
     "metadata": {},
     "output_type": "execute_result"
    }
   ],
   "source": [
    "df=pd.read_csv('Warsaw_rent_cleaned.csv')\n",
    "#usuwam zmienne zależne\n",
    "df = df.drop(['rooms','poiCount'],axis=1)\n",
    "df.head()"
   ]
  },
  {
   "cell_type": "code",
   "execution_count": 3,
   "metadata": {},
   "outputs": [],
   "source": [
    "from sklearn.model_selection import train_test_split\n",
    "X=df.drop('price', axis=1)\n",
    "y=df['price']\n",
    "X_train, X_test, y_train, y_test = train_test_split(X, y, test_size=0.3, random_state=42)\n"
   ]
  },
  {
   "cell_type": "code",
   "execution_count": 4,
   "metadata": {},
   "outputs": [
    {
     "name": "stdout",
     "output_type": "stream",
     "text": [
      "Średni błąd kwadratowy (MSE) dla modelu Random Forest: 552779.0778270251\n"
     ]
    }
   ],
   "source": [
    "from sklearn.ensemble import RandomForestRegressor\n",
    "from sklearn.metrics import mean_squared_error\n",
    "\n",
    "# Inicjalizacja modelu Random Forest\n",
    "rf_model = RandomForestRegressor(random_state=42) #n_estimators=100, \n",
    "\n",
    "# Trenowanie modelu na danych treningowych\n",
    "rf_model.fit(X_train, y_train)\n",
    "\n",
    "# Przewidywanie cen na danych testowych\n",
    "y_pred_rf = rf_model.predict(X_test)\n",
    "\n",
    "# Ocena modelu\n",
    "mse_rf = mean_squared_error(y_test, y_pred_rf)\n",
    "print(f\"Średni błąd kwadratowy (MSE) dla modelu Random Forest: {mse_rf}\")\n"
   ]
  },
  {
   "cell_type": "code",
   "execution_count": 10,
   "metadata": {},
   "outputs": [
    {
     "name": "stdout",
     "output_type": "stream",
     "text": [
      "Procentowy poziom dopasowania dla modelu Random Forest w przedziale +/- 700 PLN: 78.12%\n"
     ]
    }
   ],
   "source": [
    "# Procentowy poziom dopasowania\n",
    "przedzial_cenowy = 700\n",
    "poprawnie_przewidziane_rf = np.abs(y_test - y_pred_rf) <= przedzial_cenowy\n",
    "dopasowanie_procentowe_rf = np.sum(poprawnie_przewidziane_rf) / len(y_test) * 100\n",
    "\n",
    "print(f\"Procentowy poziom dopasowania dla modelu Random Forest w przedziale +/- {przedzial_cenowy} PLN: {dopasowanie_procentowe_rf:.2f}%\")\n"
   ]
  },
  {
   "cell_type": "code",
   "execution_count": 11,
   "metadata": {},
   "outputs": [
    {
     "name": "stdout",
     "output_type": "stream",
     "text": [
      "Współczynnik determinacji (R^2) dla modelu Random Forest: 0.85\n"
     ]
    }
   ],
   "source": [
    "# Ocena modelu Random Forest na danych testowych\n",
    "score_rf = rf_model.score(X_test, y_test)\n",
    "print(f\"Współczynnik determinacji (R^2) dla modelu Random Forest: {score_rf:.2f}\")\n"
   ]
  },
  {
   "cell_type": "code",
   "execution_count": 12,
   "metadata": {},
   "outputs": [
    {
     "data": {
      "text/plain": [
       "0.9801695899302135"
      ]
     },
     "execution_count": 12,
     "metadata": {},
     "output_type": "execute_result"
    }
   ],
   "source": [
    "rf_model.score(X_train, y_train)"
   ]
  },
  {
   "cell_type": "code",
   "execution_count": 13,
   "metadata": {},
   "outputs": [
    {
     "data": {
      "text/plain": [
       "0.8523904412410248"
      ]
     },
     "execution_count": 13,
     "metadata": {},
     "output_type": "execute_result"
    }
   ],
   "source": [
    "rf_model.score(X_test, y_test)"
   ]
  }
 ],
 "metadata": {
  "kernelspec": {
   "display_name": "base",
   "language": "python",
   "name": "python3"
  },
  "language_info": {
   "codemirror_mode": {
    "name": "ipython",
    "version": 3
   },
   "file_extension": ".py",
   "mimetype": "text/x-python",
   "name": "python",
   "nbconvert_exporter": "python",
   "pygments_lexer": "ipython3",
   "version": "3.10.9"
  }
 },
 "nbformat": 4,
 "nbformat_minor": 2
}
