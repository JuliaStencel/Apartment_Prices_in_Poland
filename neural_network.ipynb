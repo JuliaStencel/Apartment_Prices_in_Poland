{
 "cells": [
  {
   "cell_type": "code",
   "execution_count": 23,
   "metadata": {},
   "outputs": [],
   "source": [
    "import pandas as pd"
   ]
  },
  {
   "cell_type": "code",
   "execution_count": 24,
   "metadata": {},
   "outputs": [
    {
     "data": {
      "text/html": [
       "<div>\n",
       "<style scoped>\n",
       "    .dataframe tbody tr th:only-of-type {\n",
       "        vertical-align: middle;\n",
       "    }\n",
       "\n",
       "    .dataframe tbody tr th {\n",
       "        vertical-align: top;\n",
       "    }\n",
       "\n",
       "    .dataframe thead th {\n",
       "        text-align: right;\n",
       "    }\n",
       "</style>\n",
       "<table border=\"1\" class=\"dataframe\">\n",
       "  <thead>\n",
       "    <tr style=\"text-align: right;\">\n",
       "      <th></th>\n",
       "      <th>squareMeters</th>\n",
       "      <th>rooms</th>\n",
       "      <th>floor</th>\n",
       "      <th>floorCount</th>\n",
       "      <th>latitude</th>\n",
       "      <th>longitude</th>\n",
       "      <th>centreDistance</th>\n",
       "      <th>poiCount</th>\n",
       "      <th>hasParkingSpace</th>\n",
       "      <th>hasBalcony</th>\n",
       "      <th>hasElevator</th>\n",
       "      <th>hasSecurity</th>\n",
       "      <th>hasStorageRoom</th>\n",
       "      <th>type_numerical</th>\n",
       "      <th>city_numerical</th>\n",
       "      <th>price</th>\n",
       "    </tr>\n",
       "  </thead>\n",
       "  <tbody>\n",
       "    <tr>\n",
       "      <th>0</th>\n",
       "      <td>52.0</td>\n",
       "      <td>2.0</td>\n",
       "      <td>3.0</td>\n",
       "      <td>3.0</td>\n",
       "      <td>53.460535</td>\n",
       "      <td>14.545416</td>\n",
       "      <td>4.26</td>\n",
       "      <td>2.0</td>\n",
       "      <td>1</td>\n",
       "      <td>1</td>\n",
       "      <td>0</td>\n",
       "      <td>0</td>\n",
       "      <td>0</td>\n",
       "      <td>0</td>\n",
       "      <td>0</td>\n",
       "      <td>3500</td>\n",
       "    </tr>\n",
       "    <tr>\n",
       "      <th>1</th>\n",
       "      <td>57.0</td>\n",
       "      <td>3.0</td>\n",
       "      <td>3.0</td>\n",
       "      <td>10.0</td>\n",
       "      <td>53.440955</td>\n",
       "      <td>14.566024</td>\n",
       "      <td>1.98</td>\n",
       "      <td>14.0</td>\n",
       "      <td>0</td>\n",
       "      <td>1</td>\n",
       "      <td>1</td>\n",
       "      <td>0</td>\n",
       "      <td>0</td>\n",
       "      <td>0</td>\n",
       "      <td>0</td>\n",
       "      <td>3000</td>\n",
       "    </tr>\n",
       "    <tr>\n",
       "      <th>2</th>\n",
       "      <td>43.4</td>\n",
       "      <td>2.0</td>\n",
       "      <td>3.0</td>\n",
       "      <td>4.0</td>\n",
       "      <td>53.435746</td>\n",
       "      <td>14.560764</td>\n",
       "      <td>1.37</td>\n",
       "      <td>17.0</td>\n",
       "      <td>0</td>\n",
       "      <td>1</td>\n",
       "      <td>0</td>\n",
       "      <td>0</td>\n",
       "      <td>0</td>\n",
       "      <td>-1</td>\n",
       "      <td>0</td>\n",
       "      <td>1900</td>\n",
       "    </tr>\n",
       "    <tr>\n",
       "      <th>3</th>\n",
       "      <td>32.6</td>\n",
       "      <td>2.0</td>\n",
       "      <td>5.0</td>\n",
       "      <td>6.0</td>\n",
       "      <td>53.421582</td>\n",
       "      <td>14.541572</td>\n",
       "      <td>1.30</td>\n",
       "      <td>16.0</td>\n",
       "      <td>0</td>\n",
       "      <td>1</td>\n",
       "      <td>1</td>\n",
       "      <td>0</td>\n",
       "      <td>0</td>\n",
       "      <td>1</td>\n",
       "      <td>0</td>\n",
       "      <td>2500</td>\n",
       "    </tr>\n",
       "    <tr>\n",
       "      <th>4</th>\n",
       "      <td>72.0</td>\n",
       "      <td>3.0</td>\n",
       "      <td>6.0</td>\n",
       "      <td>6.0</td>\n",
       "      <td>53.450010</td>\n",
       "      <td>14.547230</td>\n",
       "      <td>3.10</td>\n",
       "      <td>11.0</td>\n",
       "      <td>0</td>\n",
       "      <td>1</td>\n",
       "      <td>1</td>\n",
       "      <td>0</td>\n",
       "      <td>1</td>\n",
       "      <td>1</td>\n",
       "      <td>0</td>\n",
       "      <td>2999</td>\n",
       "    </tr>\n",
       "  </tbody>\n",
       "</table>\n",
       "</div>"
      ],
      "text/plain": [
       "   squareMeters  rooms  floor  floorCount   latitude  longitude  \\\n",
       "0          52.0    2.0    3.0         3.0  53.460535  14.545416   \n",
       "1          57.0    3.0    3.0        10.0  53.440955  14.566024   \n",
       "2          43.4    2.0    3.0         4.0  53.435746  14.560764   \n",
       "3          32.6    2.0    5.0         6.0  53.421582  14.541572   \n",
       "4          72.0    3.0    6.0         6.0  53.450010  14.547230   \n",
       "\n",
       "   centreDistance  poiCount  hasParkingSpace  hasBalcony  hasElevator  \\\n",
       "0            4.26       2.0                1           1            0   \n",
       "1            1.98      14.0                0           1            1   \n",
       "2            1.37      17.0                0           1            0   \n",
       "3            1.30      16.0                0           1            1   \n",
       "4            3.10      11.0                0           1            1   \n",
       "\n",
       "   hasSecurity  hasStorageRoom  type_numerical  city_numerical  price  \n",
       "0            0               0               0               0   3500  \n",
       "1            0               0               0               0   3000  \n",
       "2            0               0              -1               0   1900  \n",
       "3            0               0               1               0   2500  \n",
       "4            0               1               1               0   2999  "
      ]
     },
     "execution_count": 24,
     "metadata": {},
     "output_type": "execute_result"
    }
   ],
   "source": [
    "df=pd.read_csv('Poland_rent_cleaned.csv')\n",
    "df.head()"
   ]
  },
  {
   "cell_type": "code",
   "execution_count": 25,
   "metadata": {},
   "outputs": [],
   "source": [
    "import tensorflow as tf\n",
    "from tensorflow import keras\n",
    "import matplotlib.pyplot as plt"
   ]
  },
  {
   "cell_type": "code",
   "execution_count": 26,
   "metadata": {},
   "outputs": [],
   "source": [
    "from sklearn.model_selection import train_test_split\n",
    "\n",
    "X = df.drop('price', axis=1)\n",
    "y = df['price'] \n",
    "\n",
    "X_train, X_test, y_train, y_test = train_test_split(X, y, test_size=0.3, random_state=42)"
   ]
  },
  {
   "cell_type": "code",
   "execution_count": 27,
   "metadata": {},
   "outputs": [
    {
     "data": {
      "text/plain": [
       "(11264, 15)"
      ]
     },
     "execution_count": 27,
     "metadata": {},
     "output_type": "execute_result"
    }
   ],
   "source": [
    "X_train.shape"
   ]
  },
  {
   "cell_type": "code",
   "execution_count": 28,
   "metadata": {},
   "outputs": [],
   "source": [
    "model = keras.models.Sequential()\n",
    "model.add(keras.layers.Dense(100, activation=\"relu\", input_shape=(15,)))\n",
    "model.add(keras.layers.Dense(100, activation=\"relu\"))\n",
    "model.add(keras.layers.Dense(100, activation=\"relu\"))\n",
    "model.add(keras.layers.Dense(1))  # Warstwa wyjściowa, ponieważ przewidujemy jedną wartość\n",
    "\n",
    "\n",
    "#Sigmoid: probabilities produced by a Sigmoid are independent.\n",
    "#Softmax: the outputs are interrelated. The sum of all outputs are 1.\n",
    "        "
   ]
  },
  {
   "cell_type": "code",
   "execution_count": 29,
   "metadata": {},
   "outputs": [],
   "source": [
    "# Kompilacja modelu\n",
    "model.compile(optimizer='adam', loss='mean_squared_error')\n"
   ]
  },
  {
   "cell_type": "code",
   "execution_count": 30,
   "metadata": {},
   "outputs": [
    {
     "name": "stdout",
     "output_type": "stream",
     "text": [
      "Epoch 1/50\n"
     ]
    },
    {
     "name": "stdout",
     "output_type": "stream",
     "text": [
      "282/282 - 4s - loss: 3031538.0000 - val_loss: 982825.8125 - 4s/epoch - 15ms/step\n",
      "Epoch 2/50\n",
      "282/282 - 1s - loss: 934278.5625 - val_loss: 916254.3125 - 1s/epoch - 5ms/step\n",
      "Epoch 3/50\n",
      "282/282 - 2s - loss: 908622.5625 - val_loss: 903850.3125 - 2s/epoch - 8ms/step\n",
      "Epoch 4/50\n",
      "282/282 - 3s - loss: 885305.1250 - val_loss: 871299.7500 - 3s/epoch - 9ms/step\n",
      "Epoch 5/50\n",
      "282/282 - 2s - loss: 867754.5625 - val_loss: 852884.5000 - 2s/epoch - 6ms/step\n",
      "Epoch 6/50\n",
      "282/282 - 2s - loss: 853690.8750 - val_loss: 847379.0625 - 2s/epoch - 6ms/step\n",
      "Epoch 7/50\n",
      "282/282 - 2s - loss: 840181.0000 - val_loss: 821904.0000 - 2s/epoch - 7ms/step\n",
      "Epoch 8/50\n",
      "282/282 - 2s - loss: 815943.1875 - val_loss: 829023.1875 - 2s/epoch - 8ms/step\n",
      "Epoch 9/50\n",
      "282/282 - 1s - loss: 807116.3750 - val_loss: 797836.0000 - 1s/epoch - 5ms/step\n",
      "Epoch 10/50\n",
      "282/282 - 2s - loss: 796003.5625 - val_loss: 792129.3750 - 2s/epoch - 6ms/step\n",
      "Epoch 11/50\n",
      "282/282 - 2s - loss: 786921.2500 - val_loss: 779314.7500 - 2s/epoch - 5ms/step\n",
      "Epoch 12/50\n",
      "282/282 - 2s - loss: 776295.5000 - val_loss: 800738.3125 - 2s/epoch - 6ms/step\n",
      "Epoch 13/50\n",
      "282/282 - 2s - loss: 768235.8750 - val_loss: 813248.3125 - 2s/epoch - 7ms/step\n",
      "Epoch 14/50\n",
      "282/282 - 2s - loss: 767952.8125 - val_loss: 775252.3125 - 2s/epoch - 7ms/step\n",
      "Epoch 15/50\n",
      "282/282 - 2s - loss: 758697.4375 - val_loss: 774235.9375 - 2s/epoch - 6ms/step\n",
      "Epoch 16/50\n",
      "282/282 - 2s - loss: 755013.0000 - val_loss: 760097.1250 - 2s/epoch - 7ms/step\n",
      "Epoch 17/50\n",
      "282/282 - 2s - loss: 750532.3750 - val_loss: 758329.6875 - 2s/epoch - 6ms/step\n",
      "Epoch 18/50\n",
      "282/282 - 2s - loss: 746733.5000 - val_loss: 754138.1250 - 2s/epoch - 6ms/step\n",
      "Epoch 19/50\n",
      "282/282 - 3s - loss: 738541.2500 - val_loss: 754481.0000 - 3s/epoch - 9ms/step\n",
      "Epoch 20/50\n",
      "282/282 - 2s - loss: 734438.0000 - val_loss: 739649.5625 - 2s/epoch - 8ms/step\n",
      "Epoch 21/50\n",
      "282/282 - 2s - loss: 731160.5000 - val_loss: 744904.3750 - 2s/epoch - 7ms/step\n",
      "Epoch 22/50\n",
      "282/282 - 2s - loss: 724146.1250 - val_loss: 769654.9375 - 2s/epoch - 8ms/step\n",
      "Epoch 23/50\n",
      "282/282 - 3s - loss: 723727.7500 - val_loss: 714092.7500 - 3s/epoch - 10ms/step\n",
      "Epoch 24/50\n",
      "282/282 - 3s - loss: 704198.7500 - val_loss: 760380.2500 - 3s/epoch - 9ms/step\n",
      "Epoch 25/50\n",
      "282/282 - 2s - loss: 707593.9375 - val_loss: 721900.5625 - 2s/epoch - 7ms/step\n",
      "Epoch 26/50\n",
      "282/282 - 2s - loss: 693112.6250 - val_loss: 718424.7500 - 2s/epoch - 8ms/step\n",
      "Epoch 27/50\n",
      "282/282 - 1s - loss: 680838.0000 - val_loss: 689728.5625 - 1s/epoch - 5ms/step\n",
      "Epoch 28/50\n",
      "282/282 - 1s - loss: 676831.6250 - val_loss: 711162.5000 - 1s/epoch - 5ms/step\n",
      "Epoch 29/50\n",
      "282/282 - 1s - loss: 684143.5625 - val_loss: 672687.1875 - 1s/epoch - 5ms/step\n",
      "Epoch 30/50\n",
      "282/282 - 1s - loss: 659737.3750 - val_loss: 685117.2500 - 1s/epoch - 5ms/step\n",
      "Epoch 31/50\n",
      "282/282 - 1s - loss: 654518.7500 - val_loss: 667234.0625 - 1s/epoch - 5ms/step\n",
      "Epoch 32/50\n",
      "282/282 - 2s - loss: 651398.8125 - val_loss: 656600.0625 - 2s/epoch - 7ms/step\n",
      "Epoch 33/50\n",
      "282/282 - 2s - loss: 643103.3750 - val_loss: 679956.3125 - 2s/epoch - 8ms/step\n",
      "Epoch 34/50\n",
      "282/282 - 2s - loss: 636774.5000 - val_loss: 637892.0625 - 2s/epoch - 8ms/step\n",
      "Epoch 35/50\n",
      "282/282 - 3s - loss: 619151.4375 - val_loss: 644626.9375 - 3s/epoch - 10ms/step\n",
      "Epoch 36/50\n",
      "282/282 - 2s - loss: 611367.0000 - val_loss: 626691.6875 - 2s/epoch - 6ms/step\n",
      "Epoch 37/50\n",
      "282/282 - 2s - loss: 607409.1250 - val_loss: 611895.1250 - 2s/epoch - 7ms/step\n",
      "Epoch 38/50\n",
      "282/282 - 2s - loss: 602953.8125 - val_loss: 603219.1875 - 2s/epoch - 6ms/step\n",
      "Epoch 39/50\n",
      "282/282 - 3s - loss: 601955.8750 - val_loss: 624608.0625 - 3s/epoch - 10ms/step\n",
      "Epoch 40/50\n",
      "282/282 - 2s - loss: 588317.0625 - val_loss: 651502.4375 - 2s/epoch - 8ms/step\n",
      "Epoch 41/50\n",
      "282/282 - 2s - loss: 581980.3125 - val_loss: 582664.1875 - 2s/epoch - 5ms/step\n",
      "Epoch 42/50\n",
      "282/282 - 2s - loss: 578107.3125 - val_loss: 586636.1250 - 2s/epoch - 7ms/step\n",
      "Epoch 43/50\n",
      "282/282 - 2s - loss: 573864.0000 - val_loss: 577643.0625 - 2s/epoch - 6ms/step\n",
      "Epoch 44/50\n",
      "282/282 - 2s - loss: 571328.1250 - val_loss: 568204.7500 - 2s/epoch - 6ms/step\n",
      "Epoch 45/50\n",
      "282/282 - 2s - loss: 567373.8750 - val_loss: 588953.4375 - 2s/epoch - 7ms/step\n",
      "Epoch 46/50\n",
      "282/282 - 3s - loss: 563249.6875 - val_loss: 563845.1875 - 3s/epoch - 9ms/step\n",
      "Epoch 47/50\n",
      "282/282 - 3s - loss: 561169.4375 - val_loss: 558426.5000 - 3s/epoch - 9ms/step\n",
      "Epoch 48/50\n",
      "282/282 - 2s - loss: 563859.6875 - val_loss: 565089.9375 - 2s/epoch - 8ms/step\n",
      "Epoch 49/50\n",
      "282/282 - 2s - loss: 559465.0000 - val_loss: 556406.9375 - 2s/epoch - 6ms/step\n",
      "Epoch 50/50\n",
      "282/282 - 1s - loss: 568169.8750 - val_loss: 552548.5625 - 1s/epoch - 5ms/step\n"
     ]
    },
    {
     "data": {
      "text/plain": [
       "<keras.src.callbacks.History at 0x29555c41030>"
      ]
     },
     "execution_count": 30,
     "metadata": {},
     "output_type": "execute_result"
    }
   ],
   "source": [
    "\n",
    "# Trenowanie modelu\n",
    "model.fit(X_train, y_train, epochs=50, validation_split=0.2, verbose=2)"
   ]
  },
  {
   "cell_type": "code",
   "execution_count": 31,
   "metadata": {},
   "outputs": [
    {
     "name": "stdout",
     "output_type": "stream",
     "text": [
      "151/151 [==============================] - 1s 4ms/step\n"
     ]
    }
   ],
   "source": [
    "y_pred = model.predict(X_test)\n"
   ]
  },
  {
   "cell_type": "code",
   "execution_count": 32,
   "metadata": {},
   "outputs": [
    {
     "name": "stdout",
     "output_type": "stream",
     "text": [
      "Średni błąd kwadratowy (MSE) na danych testowych: 561748.5390078474\n"
     ]
    }
   ],
   "source": [
    "from sklearn.metrics import mean_squared_error\n",
    "\n",
    "mse = mean_squared_error(y_test, y_pred)\n",
    "print(f\"Średni błąd kwadratowy (MSE) na danych testowych: {mse}\")\n"
   ]
  },
  {
   "cell_type": "code",
   "execution_count": 33,
   "metadata": {},
   "outputs": [
    {
     "name": "stdout",
     "output_type": "stream",
     "text": [
      "Procentowy poziom dopasowania w przedziale +/- 1000 PLN: 83.62%\n"
     ]
    }
   ],
   "source": [
    "import numpy as np\n",
    "# Przykładowy przedział cenowy\n",
    "przedzial_cenowy = 1000  # np. 50 000 PLN\n",
    "\n",
    "# Określenie czy przewidywane ceny mieszczą się w przedziale akceptowalnym\n",
    "poprawnie_przewidziane = np.abs(y_test - y_pred.flatten()) <= przedzial_cenowy\n",
    "\n",
    "# Obliczenie procentowego poziomu dopasowania\n",
    "dopasowanie_procentowe = np.sum(poprawnie_przewidziane) / len(y_test) * 100\n",
    "\n",
    "print(f\"Procentowy poziom dopasowania w przedziale +/- {przedzial_cenowy} PLN: {dopasowanie_procentowe:.2f}%\")\n"
   ]
  }
 ],
 "metadata": {
  "kernelspec": {
   "display_name": "base",
   "language": "python",
   "name": "python3"
  },
  "language_info": {
   "codemirror_mode": {
    "name": "ipython",
    "version": 3
   },
   "file_extension": ".py",
   "mimetype": "text/x-python",
   "name": "python",
   "nbconvert_exporter": "python",
   "pygments_lexer": "ipython3",
   "version": "3.10.9"
  }
 },
 "nbformat": 4,
 "nbformat_minor": 2
}
