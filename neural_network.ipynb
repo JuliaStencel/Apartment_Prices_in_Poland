{
 "cells": [
  {
   "cell_type": "code",
   "execution_count": 1,
   "metadata": {},
   "outputs": [],
   "source": [
    "import pandas as pd"
   ]
  },
  {
   "cell_type": "code",
   "execution_count": 2,
   "metadata": {},
   "outputs": [
    {
     "data": {
      "text/html": [
       "<div>\n",
       "<style scoped>\n",
       "    .dataframe tbody tr th:only-of-type {\n",
       "        vertical-align: middle;\n",
       "    }\n",
       "\n",
       "    .dataframe tbody tr th {\n",
       "        vertical-align: top;\n",
       "    }\n",
       "\n",
       "    .dataframe thead th {\n",
       "        text-align: right;\n",
       "    }\n",
       "</style>\n",
       "<table border=\"1\" class=\"dataframe\">\n",
       "  <thead>\n",
       "    <tr style=\"text-align: right;\">\n",
       "      <th></th>\n",
       "      <th>squareMeters</th>\n",
       "      <th>rooms</th>\n",
       "      <th>floor</th>\n",
       "      <th>floorCount</th>\n",
       "      <th>latitude</th>\n",
       "      <th>longitude</th>\n",
       "      <th>centreDistance</th>\n",
       "      <th>poiCount</th>\n",
       "      <th>hasParkingSpace</th>\n",
       "      <th>hasBalcony</th>\n",
       "      <th>hasElevator</th>\n",
       "      <th>hasSecurity</th>\n",
       "      <th>hasStorageRoom</th>\n",
       "      <th>type_numerical</th>\n",
       "      <th>month</th>\n",
       "      <th>price</th>\n",
       "    </tr>\n",
       "  </thead>\n",
       "  <tbody>\n",
       "    <tr>\n",
       "      <th>0</th>\n",
       "      <td>47.0</td>\n",
       "      <td>2.0</td>\n",
       "      <td>8.0</td>\n",
       "      <td>9.0</td>\n",
       "      <td>52.257912</td>\n",
       "      <td>20.968610</td>\n",
       "      <td>3.76</td>\n",
       "      <td>33.0</td>\n",
       "      <td>1</td>\n",
       "      <td>1</td>\n",
       "      <td>1</td>\n",
       "      <td>0</td>\n",
       "      <td>0</td>\n",
       "      <td>0</td>\n",
       "      <td>11</td>\n",
       "      <td>5000</td>\n",
       "    </tr>\n",
       "    <tr>\n",
       "      <th>1</th>\n",
       "      <td>27.0</td>\n",
       "      <td>1.0</td>\n",
       "      <td>3.0</td>\n",
       "      <td>7.0</td>\n",
       "      <td>52.249800</td>\n",
       "      <td>21.035200</td>\n",
       "      <td>2.95</td>\n",
       "      <td>33.0</td>\n",
       "      <td>1</td>\n",
       "      <td>1</td>\n",
       "      <td>1</td>\n",
       "      <td>0</td>\n",
       "      <td>0</td>\n",
       "      <td>-1</td>\n",
       "      <td>11</td>\n",
       "      <td>2950</td>\n",
       "    </tr>\n",
       "    <tr>\n",
       "      <th>2</th>\n",
       "      <td>51.0</td>\n",
       "      <td>2.0</td>\n",
       "      <td>5.0</td>\n",
       "      <td>7.0</td>\n",
       "      <td>52.222864</td>\n",
       "      <td>21.009959</td>\n",
       "      <td>1.08</td>\n",
       "      <td>85.0</td>\n",
       "      <td>0</td>\n",
       "      <td>1</td>\n",
       "      <td>1</td>\n",
       "      <td>0</td>\n",
       "      <td>0</td>\n",
       "      <td>0</td>\n",
       "      <td>11</td>\n",
       "      <td>3700</td>\n",
       "    </tr>\n",
       "    <tr>\n",
       "      <th>3</th>\n",
       "      <td>50.0</td>\n",
       "      <td>3.0</td>\n",
       "      <td>3.0</td>\n",
       "      <td>5.0</td>\n",
       "      <td>52.224948</td>\n",
       "      <td>21.012136</td>\n",
       "      <td>0.95</td>\n",
       "      <td>124.0</td>\n",
       "      <td>0</td>\n",
       "      <td>0</td>\n",
       "      <td>1</td>\n",
       "      <td>0</td>\n",
       "      <td>0</td>\n",
       "      <td>1</td>\n",
       "      <td>11</td>\n",
       "      <td>5000</td>\n",
       "    </tr>\n",
       "    <tr>\n",
       "      <th>4</th>\n",
       "      <td>39.8</td>\n",
       "      <td>2.0</td>\n",
       "      <td>2.0</td>\n",
       "      <td>3.0</td>\n",
       "      <td>52.216513</td>\n",
       "      <td>21.041474</td>\n",
       "      <td>3.09</td>\n",
       "      <td>6.0</td>\n",
       "      <td>0</td>\n",
       "      <td>0</td>\n",
       "      <td>0</td>\n",
       "      <td>0</td>\n",
       "      <td>0</td>\n",
       "      <td>1</td>\n",
       "      <td>11</td>\n",
       "      <td>4500</td>\n",
       "    </tr>\n",
       "  </tbody>\n",
       "</table>\n",
       "</div>"
      ],
      "text/plain": [
       "   squareMeters  rooms  floor  floorCount   latitude  longitude  \\\n",
       "0          47.0    2.0    8.0         9.0  52.257912  20.968610   \n",
       "1          27.0    1.0    3.0         7.0  52.249800  21.035200   \n",
       "2          51.0    2.0    5.0         7.0  52.222864  21.009959   \n",
       "3          50.0    3.0    3.0         5.0  52.224948  21.012136   \n",
       "4          39.8    2.0    2.0         3.0  52.216513  21.041474   \n",
       "\n",
       "   centreDistance  poiCount  hasParkingSpace  hasBalcony  hasElevator  \\\n",
       "0            3.76      33.0                1           1            1   \n",
       "1            2.95      33.0                1           1            1   \n",
       "2            1.08      85.0                0           1            1   \n",
       "3            0.95     124.0                0           0            1   \n",
       "4            3.09       6.0                0           0            0   \n",
       "\n",
       "   hasSecurity  hasStorageRoom  type_numerical  month  price  \n",
       "0            0               0               0     11   5000  \n",
       "1            0               0              -1     11   2950  \n",
       "2            0               0               0     11   3700  \n",
       "3            0               0               1     11   5000  \n",
       "4            0               0               1     11   4500  "
      ]
     },
     "execution_count": 2,
     "metadata": {},
     "output_type": "execute_result"
    }
   ],
   "source": [
    "df=pd.read_csv('Warsaw_rent_cleaned.csv')\n",
    "df.head()"
   ]
  },
  {
   "cell_type": "code",
   "execution_count": 3,
   "metadata": {},
   "outputs": [
    {
     "name": "stdout",
     "output_type": "stream",
     "text": [
      "WARNING:tensorflow:From c:\\Users\\julia\\anaconda3\\lib\\site-packages\\keras\\src\\losses.py:2976: The name tf.losses.sparse_softmax_cross_entropy is deprecated. Please use tf.compat.v1.losses.sparse_softmax_cross_entropy instead.\n",
      "\n"
     ]
    }
   ],
   "source": [
    "import tensorflow as tf\n",
    "from tensorflow import keras\n",
    "import matplotlib.pyplot as plt"
   ]
  },
  {
   "cell_type": "code",
   "execution_count": 4,
   "metadata": {},
   "outputs": [],
   "source": [
    "from sklearn.model_selection import train_test_split\n",
    "\n",
    "X = df.drop('price', axis=1)\n",
    "y = df['price'] \n",
    "\n",
    "X_train, X_test, y_train, y_test = train_test_split(X, y, test_size=0.3, random_state=42)"
   ]
  },
  {
   "cell_type": "code",
   "execution_count": 6,
   "metadata": {},
   "outputs": [
    {
     "data": {
      "text/plain": [
       "(4765, 15)"
      ]
     },
     "execution_count": 6,
     "metadata": {},
     "output_type": "execute_result"
    }
   ],
   "source": [
    "X_train.shape"
   ]
  },
  {
   "cell_type": "code",
   "execution_count": 7,
   "metadata": {},
   "outputs": [
    {
     "name": "stdout",
     "output_type": "stream",
     "text": [
      "WARNING:tensorflow:From c:\\Users\\julia\\anaconda3\\lib\\site-packages\\keras\\src\\backend.py:873: The name tf.get_default_graph is deprecated. Please use tf.compat.v1.get_default_graph instead.\n",
      "\n"
     ]
    }
   ],
   "source": [
    "model = keras.models.Sequential()\n",
    "model.add(keras.layers.Dense(64, activation=\"relu\", input_shape=(15,)))\n",
    "model.add(keras.layers.Dense(32, activation=\"relu\"))\n",
    "model.add(keras.layers.Dense(1))  # Warstwa wyjściowa, ponieważ przewidujemy jedną wartość\n",
    "\n",
    "\n",
    "#Sigmoid: probabilities produced by a Sigmoid are independent.\n",
    "#Softmax: the outputs are interrelated. The sum of all outputs are 1.\n",
    "        "
   ]
  },
  {
   "cell_type": "code",
   "execution_count": 8,
   "metadata": {},
   "outputs": [
    {
     "name": "stdout",
     "output_type": "stream",
     "text": [
      "WARNING:tensorflow:From c:\\Users\\julia\\anaconda3\\lib\\site-packages\\keras\\src\\optimizers\\__init__.py:309: The name tf.train.Optimizer is deprecated. Please use tf.compat.v1.train.Optimizer instead.\n",
      "\n"
     ]
    }
   ],
   "source": [
    "# Kompilacja modelu\n",
    "model.compile(optimizer='adam', loss='mean_squared_error')\n"
   ]
  },
  {
   "cell_type": "code",
   "execution_count": 9,
   "metadata": {},
   "outputs": [
    {
     "name": "stdout",
     "output_type": "stream",
     "text": [
      "Epoch 1/50\n",
      "WARNING:tensorflow:From c:\\Users\\julia\\anaconda3\\lib\\site-packages\\keras\\src\\utils\\tf_utils.py:492: The name tf.ragged.RaggedTensorValue is deprecated. Please use tf.compat.v1.ragged.RaggedTensorValue instead.\n",
      "\n",
      "120/120 - 4s - loss: 24454050.0000 - val_loss: 17230638.0000 - 4s/epoch - 31ms/step\n",
      "Epoch 2/50\n",
      "120/120 - 1s - loss: 6413293.0000 - val_loss: 2554457.5000 - 586ms/epoch - 5ms/step\n",
      "Epoch 3/50\n",
      "120/120 - 1s - loss: 2335632.7500 - val_loss: 2328387.5000 - 906ms/epoch - 8ms/step\n",
      "Epoch 4/50\n",
      "120/120 - 1s - loss: 2115004.0000 - val_loss: 2098867.0000 - 1s/epoch - 10ms/step\n",
      "Epoch 5/50\n",
      "120/120 - 1s - loss: 1901522.8750 - val_loss: 1878798.1250 - 929ms/epoch - 8ms/step\n",
      "Epoch 6/50\n",
      "120/120 - 1s - loss: 1720610.8750 - val_loss: 1701885.6250 - 1s/epoch - 11ms/step\n",
      "Epoch 7/50\n",
      "120/120 - 1s - loss: 1579237.3750 - val_loss: 1548461.7500 - 844ms/epoch - 7ms/step\n",
      "Epoch 8/50\n",
      "120/120 - 1s - loss: 1478483.0000 - val_loss: 1462116.3750 - 1s/epoch - 9ms/step\n",
      "Epoch 9/50\n",
      "120/120 - 1s - loss: 1422057.6250 - val_loss: 1411166.1250 - 976ms/epoch - 8ms/step\n",
      "Epoch 10/50\n",
      "120/120 - 1s - loss: 1396512.1250 - val_loss: 1386539.0000 - 781ms/epoch - 7ms/step\n",
      "Epoch 11/50\n",
      "120/120 - 1s - loss: 1380092.8750 - val_loss: 1376742.2500 - 763ms/epoch - 6ms/step\n",
      "Epoch 12/50\n",
      "120/120 - 1s - loss: 1369463.6250 - val_loss: 1369537.6250 - 841ms/epoch - 7ms/step\n",
      "Epoch 13/50\n",
      "120/120 - 1s - loss: 1371942.5000 - val_loss: 1352319.2500 - 876ms/epoch - 7ms/step\n",
      "Epoch 14/50\n",
      "120/120 - 1s - loss: 1356174.7500 - val_loss: 1372581.3750 - 949ms/epoch - 8ms/step\n",
      "Epoch 15/50\n",
      "120/120 - 1s - loss: 1352834.2500 - val_loss: 1336587.6250 - 907ms/epoch - 8ms/step\n",
      "Epoch 16/50\n",
      "120/120 - 1s - loss: 1345147.7500 - val_loss: 1333006.3750 - 761ms/epoch - 6ms/step\n",
      "Epoch 17/50\n",
      "120/120 - 1s - loss: 1344321.8750 - val_loss: 1334816.2500 - 672ms/epoch - 6ms/step\n",
      "Epoch 18/50\n",
      "120/120 - 1s - loss: 1343392.3750 - val_loss: 1323912.0000 - 835ms/epoch - 7ms/step\n",
      "Epoch 19/50\n",
      "120/120 - 1s - loss: 1339374.5000 - val_loss: 1322452.8750 - 1s/epoch - 9ms/step\n",
      "Epoch 20/50\n",
      "120/120 - 1s - loss: 1343605.6250 - val_loss: 1328579.1250 - 652ms/epoch - 5ms/step\n",
      "Epoch 21/50\n",
      "120/120 - 1s - loss: 1331272.7500 - val_loss: 1317458.1250 - 706ms/epoch - 6ms/step\n",
      "Epoch 22/50\n",
      "120/120 - 1s - loss: 1331255.7500 - val_loss: 1315479.2500 - 810ms/epoch - 7ms/step\n",
      "Epoch 23/50\n",
      "120/120 - 1s - loss: 1331784.0000 - val_loss: 1315895.1250 - 856ms/epoch - 7ms/step\n",
      "Epoch 24/50\n",
      "120/120 - 1s - loss: 1331557.3750 - val_loss: 1336206.6250 - 763ms/epoch - 6ms/step\n",
      "Epoch 25/50\n",
      "120/120 - 1s - loss: 1326815.7500 - val_loss: 1309608.5000 - 849ms/epoch - 7ms/step\n",
      "Epoch 26/50\n",
      "120/120 - 1s - loss: 1321997.3750 - val_loss: 1315491.8750 - 1s/epoch - 9ms/step\n",
      "Epoch 27/50\n",
      "120/120 - 1s - loss: 1323451.8750 - val_loss: 1304227.2500 - 1s/epoch - 10ms/step\n",
      "Epoch 28/50\n",
      "120/120 - 1s - loss: 1319918.5000 - val_loss: 1302389.5000 - 1s/epoch - 9ms/step\n",
      "Epoch 29/50\n",
      "120/120 - 1s - loss: 1319741.3750 - val_loss: 1302673.6250 - 1s/epoch - 10ms/step\n",
      "Epoch 30/50\n",
      "120/120 - 1s - loss: 1316711.2500 - val_loss: 1298971.5000 - 1s/epoch - 9ms/step\n",
      "Epoch 31/50\n",
      "120/120 - 1s - loss: 1315741.5000 - val_loss: 1299070.5000 - 708ms/epoch - 6ms/step\n",
      "Epoch 32/50\n",
      "120/120 - 1s - loss: 1313739.0000 - val_loss: 1303573.1250 - 928ms/epoch - 8ms/step\n",
      "Epoch 33/50\n",
      "120/120 - 1s - loss: 1315649.3750 - val_loss: 1312870.0000 - 1s/epoch - 9ms/step\n",
      "Epoch 34/50\n",
      "120/120 - 1s - loss: 1315680.3750 - val_loss: 1296497.6250 - 1s/epoch - 9ms/step\n",
      "Epoch 35/50\n",
      "120/120 - 1s - loss: 1311700.6250 - val_loss: 1291798.6250 - 1s/epoch - 9ms/step\n",
      "Epoch 36/50\n",
      "120/120 - 1s - loss: 1311285.0000 - val_loss: 1292351.0000 - 928ms/epoch - 8ms/step\n",
      "Epoch 37/50\n",
      "120/120 - 1s - loss: 1312055.5000 - val_loss: 1292379.7500 - 927ms/epoch - 8ms/step\n",
      "Epoch 38/50\n",
      "120/120 - 1s - loss: 1319833.6250 - val_loss: 1294305.3750 - 889ms/epoch - 7ms/step\n",
      "Epoch 39/50\n",
      "120/120 - 1s - loss: 1313072.5000 - val_loss: 1297692.6250 - 986ms/epoch - 8ms/step\n",
      "Epoch 40/50\n",
      "120/120 - 1s - loss: 1312443.2500 - val_loss: 1292035.7500 - 920ms/epoch - 8ms/step\n",
      "Epoch 41/50\n",
      "120/120 - 1s - loss: 1316314.0000 - val_loss: 1289797.6250 - 965ms/epoch - 8ms/step\n",
      "Epoch 42/50\n",
      "120/120 - 1s - loss: 1316783.6250 - val_loss: 1340201.6250 - 916ms/epoch - 8ms/step\n",
      "Epoch 43/50\n",
      "120/120 - 1s - loss: 1313610.6250 - val_loss: 1314315.3750 - 1s/epoch - 10ms/step\n",
      "Epoch 44/50\n",
      "120/120 - 1s - loss: 1307229.6250 - val_loss: 1289566.7500 - 794ms/epoch - 7ms/step\n",
      "Epoch 45/50\n",
      "120/120 - 1s - loss: 1314173.1250 - val_loss: 1286022.7500 - 651ms/epoch - 5ms/step\n",
      "Epoch 46/50\n",
      "120/120 - 1s - loss: 1308758.1250 - val_loss: 1286741.2500 - 936ms/epoch - 8ms/step\n",
      "Epoch 47/50\n",
      "120/120 - 1s - loss: 1305571.5000 - val_loss: 1285645.1250 - 1s/epoch - 8ms/step\n",
      "Epoch 48/50\n",
      "120/120 - 1s - loss: 1304428.0000 - val_loss: 1293206.6250 - 626ms/epoch - 5ms/step\n",
      "Epoch 49/50\n",
      "120/120 - 1s - loss: 1302881.6250 - val_loss: 1295288.3750 - 657ms/epoch - 5ms/step\n",
      "Epoch 50/50\n",
      "120/120 - 1s - loss: 1314242.0000 - val_loss: 1282853.7500 - 784ms/epoch - 7ms/step\n"
     ]
    },
    {
     "data": {
      "text/plain": [
       "<keras.src.callbacks.History at 0x1cfeab194e0>"
      ]
     },
     "execution_count": 9,
     "metadata": {},
     "output_type": "execute_result"
    }
   ],
   "source": [
    "\n",
    "# Trenowanie modelu\n",
    "model.fit(X_train, y_train, epochs=50, validation_split=0.2, verbose=2)"
   ]
  },
  {
   "cell_type": "code",
   "execution_count": 10,
   "metadata": {},
   "outputs": [
    {
     "name": "stdout",
     "output_type": "stream",
     "text": [
      "64/64 [==============================] - 1s 7ms/step\n"
     ]
    }
   ],
   "source": [
    "y_pred = model.predict(X_test)\n"
   ]
  },
  {
   "cell_type": "code",
   "execution_count": 11,
   "metadata": {},
   "outputs": [
    {
     "name": "stdout",
     "output_type": "stream",
     "text": [
      "Średni błąd kwadratowy (MSE) na danych testowych: 1330683.7802023357\n"
     ]
    }
   ],
   "source": [
    "from sklearn.metrics import mean_squared_error\n",
    "\n",
    "mse = mean_squared_error(y_test, y_pred)\n",
    "print(f\"Średni błąd kwadratowy (MSE) na danych testowych: {mse}\")\n"
   ]
  },
  {
   "cell_type": "code",
   "execution_count": 15,
   "metadata": {},
   "outputs": [
    {
     "name": "stdout",
     "output_type": "stream",
     "text": [
      "Procentowy poziom dopasowania w przedziale +/- 1000 PLN: 69.80%\n"
     ]
    }
   ],
   "source": [
    "import numpy as np\n",
    "# Przykładowy przedział cenowy\n",
    "przedzial_cenowy = 1000  # np. 50 000 PLN\n",
    "\n",
    "# Określenie czy przewidywane ceny mieszczą się w przedziale akceptowalnym\n",
    "poprawnie_przewidziane = np.abs(y_test - y_pred.flatten()) <= przedzial_cenowy\n",
    "\n",
    "# Obliczenie procentowego poziomu dopasowania\n",
    "dopasowanie_procentowe = np.sum(poprawnie_przewidziane) / len(y_test) * 100\n",
    "\n",
    "print(f\"Procentowy poziom dopasowania w przedziale +/- {przedzial_cenowy} PLN: {dopasowanie_procentowe:.2f}%\")\n"
   ]
  }
 ],
 "metadata": {
  "kernelspec": {
   "display_name": "base",
   "language": "python",
   "name": "python3"
  },
  "language_info": {
   "codemirror_mode": {
    "name": "ipython",
    "version": 3
   },
   "file_extension": ".py",
   "mimetype": "text/x-python",
   "name": "python",
   "nbconvert_exporter": "python",
   "pygments_lexer": "ipython3",
   "version": "3.10.9"
  }
 },
 "nbformat": 4,
 "nbformat_minor": 2
}
